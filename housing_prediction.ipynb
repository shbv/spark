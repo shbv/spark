{
 "cells": [
  {
   "cell_type": "markdown",
   "metadata": {},
   "source": [
    "### Packages"
   ]
  },
  {
   "cell_type": "code",
   "execution_count": 1,
   "metadata": {
    "collapsed": true
   },
   "outputs": [],
   "source": [
    "import findspark\n",
    "findspark.init()"
   ]
  },
  {
   "cell_type": "code",
   "execution_count": 2,
   "metadata": {
    "collapsed": true
   },
   "outputs": [],
   "source": [
    "# Spark / Sql\n",
    "from pyspark import SparkContext\n",
    "from pyspark.sql import SQLContext\n",
    "from pyspark.sql.types import Row, StructField, StructType, StringType, IntegerType, FloatType\n",
    "from pyspark.sql.functions import col"
   ]
  },
  {
   "cell_type": "code",
   "execution_count": 3,
   "metadata": {},
   "outputs": [],
   "source": [
    "# Spark ML\n",
    "from pyspark.ml.linalg import DenseVector\n",
    "from pyspark.ml.feature import StandardScaler\n",
    "from pyspark.ml.regression import LinearRegression"
   ]
  },
  {
   "cell_type": "code",
   "execution_count": 4,
   "metadata": {
    "collapsed": true
   },
   "outputs": [],
   "source": [
    "# Others\n",
    "import pandas as pd\n",
    "%matplotlib inline"
   ]
  },
  {
   "cell_type": "markdown",
   "metadata": {},
   "source": [
    "### SparkContext"
   ]
  },
  {
   "cell_type": "code",
   "execution_count": 5,
   "metadata": {},
   "outputs": [],
   "source": [
    "sc = SparkContext(master=\"local[4]\")\n",
    "sqc = SQLContext(sc)"
   ]
  },
  {
   "cell_type": "markdown",
   "metadata": {},
   "source": [
    "### Load data (txt file)"
   ]
  },
  {
   "cell_type": "code",
   "execution_count": 6,
   "metadata": {
    "collapsed": true
   },
   "outputs": [],
   "source": [
    "# This notebook is inspired from https://www.datacamp.com/community/tutorials/apache-spark-tutorial-machine-learning\n",
    "# Data on this link is from http://www.dcc.fc.up.pt/~ltorgo/Regression/cal_housing.html"
   ]
  },
  {
   "cell_type": "code",
   "execution_count": 7,
   "metadata": {},
   "outputs": [
    {
     "name": "stdout",
     "output_type": "stream",
     "text": [
      "cal_housing.data  cal_housing.domain\r\n"
     ]
    }
   ],
   "source": [
    "!ls data/CaliforniaHousing/"
   ]
  },
  {
   "cell_type": "code",
   "execution_count": 8,
   "metadata": {
    "collapsed": true
   },
   "outputs": [],
   "source": [
    "data_rdd = sc.textFile('data/CaliforniaHousing/cal_housing.data')\n",
    "header_rdd = sc.textFile('data/CaliforniaHousing/cal_housing.domain')"
   ]
  },
  {
   "cell_type": "code",
   "execution_count": 9,
   "metadata": {},
   "outputs": [
    {
     "data": {
      "text/plain": [
       "['longitude: continuous.',\n",
       " 'latitude: continuous.',\n",
       " 'housingMedianAge: continuous. ',\n",
       " 'totalRooms: continuous. ',\n",
       " 'totalBedrooms: continuous. ',\n",
       " 'population: continuous. ',\n",
       " 'households: continuous. ',\n",
       " 'medianIncome: continuous. ',\n",
       " 'medianHouseValue: continuous. ']"
      ]
     },
     "execution_count": 9,
     "metadata": {},
     "output_type": "execute_result"
    }
   ],
   "source": [
    "header_rdd.collect()"
   ]
  },
  {
   "cell_type": "code",
   "execution_count": 10,
   "metadata": {},
   "outputs": [
    {
     "data": {
      "text/plain": [
       "['-122.230000,37.880000,41.000000,880.000000,129.000000,322.000000,126.000000,8.325200,452600.000000',\n",
       " '-122.220000,37.860000,21.000000,7099.000000,1106.000000,2401.000000,1138.000000,8.301400,358500.000000']"
      ]
     },
     "execution_count": 10,
     "metadata": {},
     "output_type": "execute_result"
    }
   ],
   "source": [
    "data_rdd.take(2)"
   ]
  },
  {
   "cell_type": "code",
   "execution_count": 11,
   "metadata": {},
   "outputs": [
    {
     "data": {
      "text/plain": [
       "[['-122.230000',\n",
       "  '37.880000',\n",
       "  '41.000000',\n",
       "  '880.000000',\n",
       "  '129.000000',\n",
       "  '322.000000',\n",
       "  '126.000000',\n",
       "  '8.325200',\n",
       "  '452600.000000'],\n",
       " ['-122.220000',\n",
       "  '37.860000',\n",
       "  '21.000000',\n",
       "  '7099.000000',\n",
       "  '1106.000000',\n",
       "  '2401.000000',\n",
       "  '1138.000000',\n",
       "  '8.301400',\n",
       "  '358500.000000']]"
      ]
     },
     "execution_count": 11,
     "metadata": {},
     "output_type": "execute_result"
    }
   ],
   "source": [
    "data_rdd1 = data_rdd.map(lambda txt: txt.split(\",\"))\n",
    "data_rdd1.take(2)"
   ]
  },
  {
   "cell_type": "markdown",
   "metadata": {},
   "source": [
    "### Convert RDD to Dataframe"
   ]
  },
  {
   "cell_type": "code",
   "execution_count": 12,
   "metadata": {
    "collapsed": true
   },
   "outputs": [],
   "source": [
    "# Use RDD for low level transformations on unstructured data\n",
    "# Use DF for performance benefits on semi/structured data, high level expressions, sql queries, columnar access."
   ]
  },
  {
   "cell_type": "code",
   "execution_count": 13,
   "metadata": {},
   "outputs": [],
   "source": [
    "# Map each line to row type with Schema\n",
    "data_rdd2 = data_rdd1.map(lambda row: Row(longitude = row[0] ,\n",
    "                                            latitude = row[1] ,\n",
    "                                            housingMedianAge = row[2] ,\n",
    "                                            totalRooms = row[3]  ,\n",
    "                                            totalBedrooms = row[4]  ,\n",
    "                                            population = row[5]  ,\n",
    "                                            households = row[6]  ,\n",
    "                                            medianIncome = row[7]  ,\n",
    "                                            medianHouseValue = row[8]))"
   ]
  },
  {
   "cell_type": "code",
   "execution_count": 14,
   "metadata": {
    "collapsed": true
   },
   "outputs": [],
   "source": [
    "# Convert to dataframe\n",
    "data_df = data_rdd2.toDF()"
   ]
  },
  {
   "cell_type": "code",
   "execution_count": 15,
   "metadata": {},
   "outputs": [
    {
     "name": "stdout",
     "output_type": "stream",
     "text": [
      "+-----------+----------------+---------+-----------+----------------+------------+-----------+-------------+-----------+\n",
      "| households|housingMedianAge| latitude|  longitude|medianHouseValue|medianIncome| population|totalBedrooms| totalRooms|\n",
      "+-----------+----------------+---------+-----------+----------------+------------+-----------+-------------+-----------+\n",
      "| 126.000000|       41.000000|37.880000|-122.230000|   452600.000000|    8.325200| 322.000000|   129.000000| 880.000000|\n",
      "|1138.000000|       21.000000|37.860000|-122.220000|   358500.000000|    8.301400|2401.000000|  1106.000000|7099.000000|\n",
      "| 177.000000|       52.000000|37.850000|-122.240000|   352100.000000|    7.257400| 496.000000|   190.000000|1467.000000|\n",
      "| 219.000000|       52.000000|37.850000|-122.250000|   341300.000000|    5.643100| 558.000000|   235.000000|1274.000000|\n",
      "| 259.000000|       52.000000|37.850000|-122.250000|   342200.000000|    3.846200| 565.000000|   280.000000|1627.000000|\n",
      "| 193.000000|       52.000000|37.850000|-122.250000|   269700.000000|    4.036800| 413.000000|   213.000000| 919.000000|\n",
      "| 514.000000|       52.000000|37.840000|-122.250000|   299200.000000|    3.659100|1094.000000|   489.000000|2535.000000|\n",
      "| 647.000000|       52.000000|37.840000|-122.250000|   241400.000000|    3.120000|1157.000000|   687.000000|3104.000000|\n",
      "| 595.000000|       42.000000|37.840000|-122.260000|   226700.000000|    2.080400|1206.000000|   665.000000|2555.000000|\n",
      "| 714.000000|       52.000000|37.840000|-122.250000|   261100.000000|    3.691200|1551.000000|   707.000000|3549.000000|\n",
      "| 402.000000|       52.000000|37.850000|-122.260000|   281500.000000|    3.203100| 910.000000|   434.000000|2202.000000|\n",
      "| 734.000000|       52.000000|37.850000|-122.260000|   241800.000000|    3.270500|1504.000000|   752.000000|3503.000000|\n",
      "| 468.000000|       52.000000|37.850000|-122.260000|   213500.000000|    3.075000|1098.000000|   474.000000|2491.000000|\n",
      "| 174.000000|       52.000000|37.840000|-122.260000|   191300.000000|    2.673600| 345.000000|   191.000000| 696.000000|\n",
      "| 620.000000|       52.000000|37.850000|-122.260000|   159200.000000|    1.916700|1212.000000|   626.000000|2643.000000|\n",
      "| 264.000000|       50.000000|37.850000|-122.260000|   140000.000000|    2.125000| 697.000000|   283.000000|1120.000000|\n",
      "| 331.000000|       52.000000|37.850000|-122.270000|   152500.000000|    2.775000| 793.000000|   347.000000|1966.000000|\n",
      "| 303.000000|       52.000000|37.850000|-122.270000|   155500.000000|    2.120200| 648.000000|   293.000000|1228.000000|\n",
      "| 419.000000|       50.000000|37.840000|-122.260000|   158700.000000|    1.991100| 990.000000|   455.000000|2239.000000|\n",
      "| 275.000000|       52.000000|37.840000|-122.270000|   162900.000000|    2.603300| 690.000000|   298.000000|1503.000000|\n",
      "+-----------+----------------+---------+-----------+----------------+------------+-----------+-------------+-----------+\n",
      "only showing top 20 rows\n",
      "\n"
     ]
    },
    {
     "data": {
      "text/plain": [
       "['households',\n",
       " 'housingMedianAge',\n",
       " 'latitude',\n",
       " 'longitude',\n",
       " 'medianHouseValue',\n",
       " 'medianIncome',\n",
       " 'population',\n",
       " 'totalBedrooms',\n",
       " 'totalRooms']"
      ]
     },
     "execution_count": 15,
     "metadata": {},
     "output_type": "execute_result"
    }
   ],
   "source": [
    "# View df\n",
    "data_df.show()\n",
    "data_df.columns"
   ]
  },
  {
   "cell_type": "code",
   "execution_count": 16,
   "metadata": {},
   "outputs": [
    {
     "name": "stdout",
     "output_type": "stream",
     "text": [
      "[('households', 'string'), ('housingMedianAge', 'string'), ('latitude', 'string'), ('longitude', 'string'), ('medianHouseValue', 'string'), ('medianIncome', 'string'), ('population', 'string'), ('totalBedrooms', 'string'), ('totalRooms', 'string')]\n",
      "root\n",
      " |-- households: string (nullable = true)\n",
      " |-- housingMedianAge: string (nullable = true)\n",
      " |-- latitude: string (nullable = true)\n",
      " |-- longitude: string (nullable = true)\n",
      " |-- medianHouseValue: string (nullable = true)\n",
      " |-- medianIncome: string (nullable = true)\n",
      " |-- population: string (nullable = true)\n",
      " |-- totalBedrooms: string (nullable = true)\n",
      " |-- totalRooms: string (nullable = true)\n",
      "\n"
     ]
    }
   ],
   "source": [
    "# View df data types\n",
    "print(data_df.dtypes)\n",
    "data_df.printSchema()"
   ]
  },
  {
   "cell_type": "code",
   "execution_count": 17,
   "metadata": {},
   "outputs": [
    {
     "name": "stdout",
     "output_type": "stream",
     "text": [
      "[('households', 'float'), ('housingMedianAge', 'float'), ('latitude', 'float'), ('longitude', 'float'), ('medianHouseValue', 'float'), ('medianIncome', 'float'), ('population', 'float'), ('totalBedRooms', 'float'), ('totalRooms', 'float')]\n",
      "root\n",
      " |-- households: float (nullable = true)\n",
      " |-- housingMedianAge: float (nullable = true)\n",
      " |-- latitude: float (nullable = true)\n",
      " |-- longitude: float (nullable = true)\n",
      " |-- medianHouseValue: float (nullable = true)\n",
      " |-- medianIncome: float (nullable = true)\n",
      " |-- population: float (nullable = true)\n",
      " |-- totalBedRooms: float (nullable = true)\n",
      " |-- totalRooms: float (nullable = true)\n",
      "\n"
     ]
    }
   ],
   "source": [
    "# Convert df data types to float\n",
    "columns = ['households', 'housingMedianAge', \n",
    "           'latitude', 'longitude', \n",
    "           'medianHouseValue', 'medianIncome', \n",
    "           'population', 'totalBedRooms', 'totalRooms']\n",
    "for col in columns:\n",
    "    data_df = data_df.withColumn(col, data_df[col].cast(FloatType()))\n",
    "\n",
    "# View df data types\n",
    "print(data_df.dtypes)\n",
    "data_df.printSchema()"
   ]
  },
  {
   "cell_type": "markdown",
   "metadata": {},
   "source": [
    "### Explore data"
   ]
  },
  {
   "cell_type": "markdown",
   "metadata": {},
   "source": [
    "Features:\n",
    "- Longitude of block group\n",
    "- Latitude of block group\n",
    "- Housing median age is median age of people in block group \n",
    "- Total rooms in the houses in block group\n",
    "- Total bedrooms in the houses in block group\n",
    "- Population of inhabitants in block group\n",
    "- Households is number of houses or occupants in block group\n",
    "- Median income of people in block group \n",
    "\n",
    "Target variable:\n",
    "- Median house value of block group"
   ]
  },
  {
   "cell_type": "code",
   "execution_count": 18,
   "metadata": {},
   "outputs": [
    {
     "data": {
      "text/plain": [
       "['households',\n",
       " 'housingMedianAge',\n",
       " 'latitude',\n",
       " 'longitude',\n",
       " 'medianHouseValue',\n",
       " 'medianIncome',\n",
       " 'population',\n",
       " 'totalBedRooms',\n",
       " 'totalRooms']"
      ]
     },
     "execution_count": 18,
     "metadata": {},
     "output_type": "execute_result"
    }
   ],
   "source": [
    "data_df.columns"
   ]
  },
  {
   "cell_type": "code",
   "execution_count": 19,
   "metadata": {},
   "outputs": [
    {
     "name": "stdout",
     "output_type": "stream",
     "text": [
      "+----------+----------+\n",
      "|population|totalRooms|\n",
      "+----------+----------+\n",
      "|     322.0|     880.0|\n",
      "|    2401.0|    7099.0|\n",
      "|     496.0|    1467.0|\n",
      "|     558.0|    1274.0|\n",
      "|     565.0|    1627.0|\n",
      "+----------+----------+\n",
      "only showing top 5 rows\n",
      "\n"
     ]
    }
   ],
   "source": [
    "# simple select\n",
    "data_df.select('population','totalRooms').show(5)"
   ]
  },
  {
   "cell_type": "code",
   "execution_count": 20,
   "metadata": {},
   "outputs": [
    {
     "name": "stdout",
     "output_type": "stream",
     "text": [
      "+----------+-----+\n",
      "|households|count|\n",
      "+----------+-----+\n",
      "|    6082.0|    1|\n",
      "|    5358.0|    1|\n",
      "|    5189.0|    1|\n",
      "|    5050.0|    1|\n",
      "|    4930.0|    1|\n",
      "+----------+-----+\n",
      "only showing top 5 rows\n",
      "\n"
     ]
    },
    {
     "data": {
      "text/plain": [
       "<matplotlib.axes._subplots.AxesSubplot at 0x7f6fae4c62e8>"
      ]
     },
     "execution_count": 20,
     "metadata": {},
     "output_type": "execute_result"
    },
    {
     "data": {
      "image/png": "[encoded data removed]",
      "text/plain": [
       "<matplotlib.figure.Figure at 0x7f6fae4ceef0>"
      ]
     },
     "metadata": {},
     "output_type": "display_data"
    }
   ],
   "source": [
    "# more complex queries\n",
    "data_df.groupBy('households').count().sort('households',ascending=False).show(5)\n",
    "data_df_pd  = data_df.groupBy('households').count().toPandas()\n",
    "data_df_pd.plot.scatter('households','count')"
   ]
  },
  {
   "cell_type": "code",
   "execution_count": 21,
   "metadata": {},
   "outputs": [
    {
     "name": "stdout",
     "output_type": "stream",
     "text": [
      "+-------+------------------+------------------+------------------+-------------------+\n",
      "|summary|        households|  housingMedianAge|          latitude|          longitude|\n",
      "+-------+------------------+------------------+------------------+-------------------+\n",
      "|  count|             20640|             20640|             20640|              20640|\n",
      "|   mean| 499.5396802325581|28.639486434108527| 35.63186143109965|-119.56970444871473|\n",
      "| stddev|382.32975283161136|12.585557612111613|2.1359523806029554| 2.0035317429328914|\n",
      "|    min|               1.0|               1.0|             32.54|            -124.35|\n",
      "|    max|            6082.0|              52.0|             41.95|            -114.31|\n",
      "+-------+------------------+------------------+------------------+-------------------+\n",
      "\n",
      "+-------+------------------+------------------+------------------+-----------------+------------------+\n",
      "|summary|  medianHouseValue|      medianIncome|        population|    totalBedRooms|        totalRooms|\n",
      "+-------+------------------+------------------+------------------+-----------------+------------------+\n",
      "|  count|             20640|             20640|             20640|            20640|             20640|\n",
      "|   mean|206855.81690891474|3.8706710030346416|1425.4767441860465|537.8980135658915|2635.7630813953488|\n",
      "| stddev|115395.61587441381|1.8998217183639672|1132.4621217653385|421.2479059431315|2181.6152515827994|\n",
      "|    min|           14999.0|            0.4999|               3.0|              1.0|               2.0|\n",
      "|    max|          500001.0|           15.0001|           35682.0|           6445.0|           39320.0|\n",
      "+-------+------------------+------------------+------------------+-----------------+------------------+\n",
      "\n"
     ]
    }
   ],
   "source": [
    "# Check feature ranges - normalize or not?\n",
    "data_df.describe(columns[0:4]).show()\n",
    "data_df.describe(columns[4:10]).show()"
   ]
  },
  {
   "cell_type": "markdown",
   "metadata": {},
   "source": [
    "### Data processing - editing dataframe"
   ]
  },
  {
   "cell_type": "code",
   "execution_count": 22,
   "metadata": {},
   "outputs": [],
   "source": [
    "from pyspark.sql.functions import col"
   ]
  },
  {
   "cell_type": "code",
   "execution_count": 23,
   "metadata": {},
   "outputs": [
    {
     "name": "stdout",
     "output_type": "stream",
     "text": [
      "+-------+------------------+\n",
      "|summary|  medianHouseValue|\n",
      "+-------+------------------+\n",
      "|  count|             20640|\n",
      "|   mean|20.685581690891706|\n",
      "| stddev|11.539561587441375|\n",
      "|    min|            1.4999|\n",
      "|    max|           50.0001|\n",
      "+-------+------------------+\n",
      "\n"
     ]
    }
   ],
   "source": [
    "# Reduce range of medianhousevalue i.e. y\n",
    "data_df = data_df.withColumn('medianHouseValue', col('medianHouseValue')/10000)\n",
    "data_df.describe('medianHouseValue').show()"
   ]
  },
  {
   "cell_type": "code",
   "execution_count": 24,
   "metadata": {},
   "outputs": [
    {
     "name": "stdout",
     "output_type": "stream",
     "text": [
      "+-------------------------+\n",
      "|(totalRooms / households)|\n",
      "+-------------------------+\n",
      "|        6.984126984126984|\n",
      "|        6.238137082601054|\n",
      "|        8.288135593220339|\n",
      "|       5.8173515981735155|\n",
      "|        6.281853281853282|\n",
      "+-------------------------+\n",
      "only showing top 5 rows\n",
      "\n"
     ]
    },
    {
     "data": {
      "text/plain": [
       "pyspark.sql.dataframe.DataFrame"
      ]
     },
     "execution_count": 24,
     "metadata": {},
     "output_type": "execute_result"
    }
   ],
   "source": [
    "# Create new features from existing columns\n",
    "feature1_df = data_df.select(col('totalRooms')/col('households'))\n",
    "feature1_df.show(5)\n",
    "type(feature1_df)"
   ]
  },
  {
   "cell_type": "code",
   "execution_count": 25,
   "metadata": {},
   "outputs": [
    {
     "data": {
      "text/plain": [
       "['households',\n",
       " 'housingMedianAge',\n",
       " 'latitude',\n",
       " 'longitude',\n",
       " 'medianHouseValue',\n",
       " 'medianIncome',\n",
       " 'population',\n",
       " 'totalBedRooms',\n",
       " 'totalRooms',\n",
       " 'roomsperhousehold',\n",
       " 'populationperhousehold',\n",
       " 'bedroomsperroom']"
      ]
     },
     "execution_count": 25,
     "metadata": {},
     "output_type": "execute_result"
    }
   ],
   "source": [
    "# Add new features\n",
    "data_df = data_df.withColumn('roomsperhousehold', col('totalRooms')/col('households'))\\\n",
    "                  .withColumn('populationperhousehold', col('population')/col('households'))\\\n",
    "                  .withColumn('bedroomsperroom', col('totalBedRooms')/col('totalRooms'))\n",
    "data_df.columns"
   ]
  },
  {
   "cell_type": "code",
   "execution_count": 26,
   "metadata": {},
   "outputs": [
    {
     "name": "stdout",
     "output_type": "stream",
     "text": [
      "+-------+------------------+------------------+------------------+-------------------+\n",
      "|summary|        households|  housingMedianAge|          latitude|          longitude|\n",
      "+-------+------------------+------------------+------------------+-------------------+\n",
      "|  count|             20640|             20640|             20640|              20640|\n",
      "|   mean| 499.5396802325581|28.639486434108527| 35.63186143109965|-119.56970444871473|\n",
      "| stddev|382.32975283161136|12.585557612111613|2.1359523806029554| 2.0035317429328914|\n",
      "|    min|               1.0|               1.0|             32.54|            -124.35|\n",
      "|    max|            6082.0|              52.0|             41.95|            -114.31|\n",
      "+-------+------------------+------------------+------------------+-------------------+\n",
      "\n",
      "+-------+------------------+------------------+------------------+-----------------+\n",
      "|summary|  medianHouseValue|      medianIncome|        population|    totalBedRooms|\n",
      "+-------+------------------+------------------+------------------+-----------------+\n",
      "|  count|             20640|             20640|             20640|            20640|\n",
      "|   mean|20.685581690891706|3.8706710030346416|1425.4767441860465|537.8980135658915|\n",
      "| stddev|11.539561587441375|1.8998217183639672|1132.4621217653385|421.2479059431315|\n",
      "|    min|            1.4999|            0.4999|               3.0|              1.0|\n",
      "|    max|           50.0001|           15.0001|           35682.0|           6445.0|\n",
      "+-------+------------------+------------------+------------------+-----------------+\n",
      "\n",
      "+-------+------------------+------------------+----------------------+--------------------+\n",
      "|summary|        totalRooms| roomsperhousehold|populationperhousehold|     bedroomsperroom|\n",
      "+-------+------------------+------------------+----------------------+--------------------+\n",
      "|  count|             20640|             20640|                 20640|               20640|\n",
      "|   mean|2635.7630813953488| 5.428999742190385|     3.070655159436371|  0.2130745168392036|\n",
      "| stddev|2181.6152515827994|2.4741731394243214|    10.386049562213618|0.058023490093062645|\n",
      "|    min|               2.0|0.8461538461538461|    0.6923076923076923|                 0.1|\n",
      "|    max|           39320.0| 141.9090909090909|    1243.3333333333333|                 1.0|\n",
      "+-------+------------------+------------------+----------------------+--------------------+\n",
      "\n"
     ]
    }
   ],
   "source": [
    "# Check feature ranges - normalize or not?\n",
    "columns = data_df.columns\n",
    "i = 0\n",
    "while i < len(columns):\n",
    "    e = i+4 if i+4 <= len(columns) else len(columns)\n",
    "    data_df.describe(columns[i:e]).show()\n",
    "    i+=4"
   ]
  },
  {
   "cell_type": "code",
   "execution_count": 27,
   "metadata": {},
   "outputs": [
    {
     "data": {
      "text/plain": [
       "['medianHouseValue',\n",
       " 'households',\n",
       " 'housingMedianAge',\n",
       " 'medianIncome',\n",
       " 'population',\n",
       " 'totalBedRooms',\n",
       " 'totalRooms',\n",
       " 'roomsperhousehold',\n",
       " 'populationperhousehold',\n",
       " 'bedroomsperroom']"
      ]
     },
     "execution_count": 27,
     "metadata": {},
     "output_type": "execute_result"
    }
   ],
   "source": [
    "# Re-order columns and drop longitude, latitude\n",
    "columns = ['medianHouseValue',\n",
    "            'households',\n",
    "             'housingMedianAge',             \n",
    "             'medianIncome',\n",
    "             'population',\n",
    "             'totalBedRooms',\n",
    "             'totalRooms',\n",
    "             'roomsperhousehold',\n",
    "             'populationperhousehold',\n",
    "             'bedroomsperroom']\n",
    "data_df = data_df.select(columns)\n",
    "data_df.columns"
   ]
  },
  {
   "cell_type": "code",
   "execution_count": 28,
   "metadata": {},
   "outputs": [],
   "source": [
    "# Separate df into features and label\n",
    "\n",
    "# Create new RDD using RDD and map with key, value pairs -> label, features\n",
    "data_rdd_new = data_df.rdd.map( lambda row: (row[0], DenseVector(row[1:])) )\n",
    "\n",
    "# Create dataframe with this RDD new column names\n",
    "column_names = [\"label\", \"features\"]\n",
    "data_df_new = sqc.createDataFrame(data_rdd_new, column_names)"
   ]
  },
  {
   "cell_type": "code",
   "execution_count": 29,
   "metadata": {},
   "outputs": [
    {
     "name": "stdout",
     "output_type": "stream",
     "text": [
      "[(45.26, DenseVector([126.0, 41.0, 8.3252, 322.0, 129.0, 880.0, 6.9841, 2.5556, 0.1466])), (35.85, DenseVector([1138.0, 21.0, 8.3014, 2401.0, 1106.0, 7099.0, 6.2381, 2.1098, 0.1558])), (35.21, DenseVector([177.0, 52.0, 7.2574, 496.0, 190.0, 1467.0, 8.2881, 2.8023, 0.1295])), (34.13, DenseVector([219.0, 52.0, 5.6431, 558.0, 235.0, 1274.0, 5.8174, 2.5479, 0.1845])), (34.22, DenseVector([259.0, 52.0, 3.8462, 565.0, 280.0, 1627.0, 6.2819, 2.1815, 0.1721]))]\n",
      "+-----+--------------------+\n",
      "|label|            features|\n",
      "+-----+--------------------+\n",
      "|45.26|[126.0,41.0,8.325...|\n",
      "|35.85|[1138.0,21.0,8.30...|\n",
      "|35.21|[177.0,52.0,7.257...|\n",
      "|34.13|[219.0,52.0,5.643...|\n",
      "|34.22|[259.0,52.0,3.846...|\n",
      "+-----+--------------------+\n",
      "only showing top 5 rows\n",
      "\n"
     ]
    }
   ],
   "source": [
    "# View new rdd and df\n",
    "print(data_rdd_new.take(5))\n",
    "data_df_new.show(5)"
   ]
  },
  {
   "cell_type": "code",
   "execution_count": 30,
   "metadata": {},
   "outputs": [
    {
     "name": "stdout",
     "output_type": "stream",
     "text": [
      "+-----+--------------------+--------------------+\n",
      "|label|            features|     features_scaled|\n",
      "+-----+--------------------+--------------------+\n",
      "|45.26|[126.0,41.0,8.325...|[0.32955844808524...|\n",
      "|35.85|[1138.0,21.0,8.30...|[2.97648820572226...|\n",
      "|35.21|[177.0,52.0,7.257...|[0.46295115326260...|\n",
      "|34.13|[219.0,52.0,5.643...|[0.57280396929101...|\n",
      "|34.22|[259.0,52.0,3.846...|[0.67742569884188...|\n",
      "+-----+--------------------+--------------------+\n",
      "only showing top 5 rows\n",
      "\n"
     ]
    }
   ],
   "source": [
    "# Normalize data\n",
    "SS = StandardScaler(inputCol=\"features\", outputCol=\"features_scaled\")\n",
    "SSf = SS.fit(data_df_new)\n",
    "data_df_new_scaled = SSf.transform(data_df_new)\n",
    "data_df_new_scaled.show(5)"
   ]
  },
  {
   "cell_type": "markdown",
   "metadata": {},
   "source": [
    "### Model"
   ]
  },
  {
   "cell_type": "code",
   "execution_count": 31,
   "metadata": {
    "collapsed": true
   },
   "outputs": [],
   "source": [
    "# Split into train and test set\n",
    "train_df, test_df = data_df_new_scaled.randomSplit([.8,.2],seed=1)"
   ]
  },
  {
   "cell_type": "code",
   "execution_count": 32,
   "metadata": {},
   "outputs": [
    {
     "data": {
      "text/plain": [
       "(16504, 4136)"
      ]
     },
     "execution_count": 32,
     "metadata": {},
     "output_type": "execute_result"
    }
   ],
   "source": [
    "train_df.count(), test_df.count()"
   ]
  },
  {
   "cell_type": "code",
   "execution_count": 33,
   "metadata": {
    "collapsed": true
   },
   "outputs": [],
   "source": [
    "# Fit train data\n",
    "LR = LinearRegression(labelCol=\"label\", maxIter=100, regParam=0.1, elasticNetParam=0.8)\n",
    "LR_model = LR.fit(train_df)"
   ]
  },
  {
   "cell_type": "code",
   "execution_count": 34,
   "metadata": {},
   "outputs": [
    {
     "name": "stdout",
     "output_type": "stream",
     "text": [
      "[0.0106656552036,0.170060500902,4.9732786428,-0.00298231635751,0.0,0.0,0.0,-0.0159912839872,40.7779179754]\n",
      "-13.202170357298824\n",
      "0.5817341259754492\n",
      "7.426464280169096\n"
     ]
    }
   ],
   "source": [
    "# Get train error, coefficients\n",
    "print(LR_model.coefficients)\n",
    "print(LR_model.intercept)\n",
    "print(LR_model.summary.r2)\n",
    "print(LR_model.summary.rootMeanSquaredError)"
   ]
  },
  {
   "cell_type": "code",
   "execution_count": 35,
   "metadata": {},
   "outputs": [
    {
     "data": {
      "text/plain": [
       "pyspark.sql.dataframe.DataFrame"
      ]
     },
     "execution_count": 35,
     "metadata": {},
     "output_type": "execute_result"
    }
   ],
   "source": [
    "# Predict test labels\n",
    "pred_df = LR_model.transform(test_df)\n",
    "type(pred_df)"
   ]
  },
  {
   "cell_type": "code",
   "execution_count": 36,
   "metadata": {},
   "outputs": [
    {
     "name": "stdout",
     "output_type": "stream",
     "text": [
      "+------------------+\n",
      "|        prediction|\n",
      "+------------------+\n",
      "|15.742991247459665|\n",
      "|18.972070130328206|\n",
      "|13.737591604700286|\n",
      "|19.767692629790417|\n",
      "|  9.22443934940914|\n",
      "+------------------+\n",
      "only showing top 5 rows\n",
      "\n",
      "+-----+\n",
      "|label|\n",
      "+-----+\n",
      "| 2.25|\n",
      "| 3.25|\n",
      "| 3.75|\n",
      "| 3.88|\n",
      "| 3.94|\n",
      "+-----+\n",
      "only showing top 5 rows\n",
      "\n"
     ]
    }
   ],
   "source": [
    "# View predictions and true label\n",
    "pred_df.select('prediction').show(5)\n",
    "pred_df.select('label').show(5)"
   ]
  },
  {
   "cell_type": "code",
   "execution_count": 37,
   "metadata": {},
   "outputs": [
    {
     "data": {
      "text/plain": [
       "([(15.742991247459665, 2.25),\n",
       "  (18.972070130328206, 3.25),\n",
       "  (13.737591604700286, 3.75),\n",
       "  (19.767692629790417, 3.88),\n",
       "  (9.22443934940914, 3.94)],\n",
       " 4136)"
      ]
     },
     "execution_count": 37,
     "metadata": {},
     "output_type": "execute_result"
    }
   ],
   "source": [
    "# Extract and zip preds and labels together\n",
    "pred_rdd = pred_df.select('prediction').rdd.map(lambda row: row[0])\n",
    "true_label_rdd = pred_df.select('label').rdd.map(lambda row: row[0])\n",
    "pred_true_labels = pred_rdd.zip(true_label_rdd).collect()\n",
    "pred_true_labels[0:5], len(pred_true_labels)"
   ]
  },
  {
   "cell_type": "code",
   "execution_count": null,
   "metadata": {
    "collapsed": true
   },
   "outputs": [],
   "source": []
  }
 ],
 "metadata": {
  "kernelspec": {
   "display_name": "Python 3",
   "language": "python",
   "name": "python3"
  },
  "language_info": {
   "codemirror_mode": {
    "name": "ipython",
    "version": 3
   },
   "file_extension": ".py",
   "mimetype": "text/x-python",
   "name": "python",
   "nbconvert_exporter": "python",
   "pygments_lexer": "ipython3",
   "version": "3.6.3"
  }
 },
 "nbformat": 4,
 "nbformat_minor": 2
}
