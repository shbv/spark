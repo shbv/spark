{
 "cells": [
  {
   "cell_type": "markdown",
   "metadata": {},
   "source": [
    "### Packages"
   ]
  },
  {
   "cell_type": "code",
   "execution_count": 1,
   "metadata": {
    "collapsed": true
   },
   "outputs": [],
   "source": [
    "import findspark\n",
    "findspark.init()"
   ]
  },
  {
   "cell_type": "code",
   "execution_count": 2,
   "metadata": {
    "collapsed": true
   },
   "outputs": [],
   "source": [
    "from pyspark import SparkContext\n",
    "from pyspark.sql import SQLContext\n",
    "from pyspark.sql.types import Row, StructField, StructType, StringType, IntegerType"
   ]
  },
  {
   "cell_type": "code",
   "execution_count": 3,
   "metadata": {
    "collapsed": true
   },
   "outputs": [],
   "source": [
    "import pandas as pd\n",
    "%matplotlib inline"
   ]
  },
  {
   "cell_type": "markdown",
   "metadata": {
    "heading_collapsed": true
   },
   "source": [
    "### SparkContext"
   ]
  },
  {
   "cell_type": "code",
   "execution_count": 4,
   "metadata": {
    "collapsed": true,
    "hidden": true
   },
   "outputs": [],
   "source": [
    "# Create SparkContext object with 4 executors. It is the delegate between head and executors\n",
    "sc = SparkContext(master=\"local[4]\")\n",
    "\n",
    "# Create SQLContext similar to SparkContext to use sql\n",
    "sqc = SQLContext(sc)"
   ]
  },
  {
   "cell_type": "code",
   "execution_count": 5,
   "metadata": {
    "hidden": true
   },
   "outputs": [
    {
     "name": "stdout",
     "output_type": "stream",
     "text": [
      "<SparkContext master=local[4] appName=pyspark-shell> <pyspark.sql.context.SQLContext object at 0x7f427d0a5518>\n"
     ]
    }
   ],
   "source": [
    "print(sc, sqc)\n",
    "#sc.stop() ; # to stop context. Do this before starting new one. Only 1 at a time"
   ]
  },
  {
   "cell_type": "code",
   "execution_count": 6,
   "metadata": {
    "hidden": true
   },
   "outputs": [
    {
     "data": {
      "text/plain": [
       "'2.2.1'"
      ]
     },
     "execution_count": 6,
     "metadata": {},
     "output_type": "execute_result"
    }
   ],
   "source": [
    "sc.version"
   ]
  },
  {
   "cell_type": "markdown",
   "metadata": {
    "heading_collapsed": true
   },
   "source": [
    "### Download data"
   ]
  },
  {
   "cell_type": "code",
   "execution_count": 7,
   "metadata": {
    "collapsed": true,
    "hidden": true
   },
   "outputs": [],
   "source": [
    "# Download from \n",
    "url = \"https://mas-dse-open.s3.amazonaws.com/Weather/by_state/NY.tgz\"\n",
    "# to\n",
    "data_dir = './data/weather'\n",
    "data_file = './data/weather/NY.tgz'\n",
    "data_file_parquet = './data/weather/NY.parquet'"
   ]
  },
  {
   "cell_type": "code",
   "execution_count": 8,
   "metadata": {
    "hidden": true
   },
   "outputs": [
    {
     "name": "stdout",
     "output_type": "stream",
     "text": [
      "./data/weather  dir exists\n",
      "./data/weather/NY.tgz  file exists\n",
      "-rw-rw-r-- 1 sb sb 64M Apr 18 18:12 ./data/weather/NY.tgz\n",
      "./data/weather/NY.parquet  dir exists\n"
     ]
    }
   ],
   "source": [
    "from os.path import split,join,exists\n",
    "\n",
    "# mkdir\n",
    "if exists(data_dir):\n",
    "    print(data_dir,\" dir exists\")\n",
    "else:\n",
    "    print(\"creating dir: \", data_dir)\n",
    "    mkdir(data_dir)\n",
    "\n",
    "# get file\n",
    "if exists(data_file):\n",
    "    print(data_file,\" file exists\")\n",
    "else:\n",
    "    command=\"wget %s -P %s \"%(url, data_dir)\n",
    "    print(command)\n",
    "    !$command\n",
    "    \n",
    "!ls -lh $data_file\n",
    "\n",
    "# untar it\n",
    "if exists(data_file_parquet):\n",
    "    print(data_file_parquet,\" dir exists\")\n",
    "else:\n",
    "    !tar xzvf $data_file -C $data_dir"
   ]
  },
  {
   "cell_type": "markdown",
   "metadata": {
    "heading_collapsed": true
   },
   "source": [
    "### Load data"
   ]
  },
  {
   "cell_type": "code",
   "execution_count": 9,
   "metadata": {
    "hidden": true
   },
   "outputs": [
    {
     "name": "stdout",
     "output_type": "stream",
     "text": [
      "<class 'pyspark.sql.dataframe.DataFrame'>\n",
      "+-----------+-----------+----+--------------------+-----------------+--------------+------------------+-----------------+-----+-----------------+\n",
      "|    Station|Measurement|Year|              Values|       dist_coast|      latitude|         longitude|        elevation|state|             name|\n",
      "+-----------+-----------+----+--------------------+-----------------+--------------+------------------+-----------------+-----+-----------------+\n",
      "|USW00094704|   PRCP_s20|1945|[00 00 00 00 00 0...|361.8320007324219|42.57080078125|-77.71330261230469|208.8000030517578|   NY|DANSVILLE MUNI AP|\n",
      "+-----------+-----------+----+--------------------+-----------------+--------------+------------------+-----------------+-----+-----------------+\n",
      "only showing top 1 row\n",
      "\n"
     ]
    }
   ],
   "source": [
    "# Read file\n",
    "df = sqc.read.load(data_file_parquet)\n",
    "print(type(df))\n",
    "df.show(1)"
   ]
  },
  {
   "cell_type": "markdown",
   "metadata": {
    "heading_collapsed": true
   },
   "source": [
    "### Dataframe operations"
   ]
  },
  {
   "cell_type": "markdown",
   "metadata": {
    "heading_collapsed": true,
    "hidden": true
   },
   "source": [
    "#### Basic dataframe ops"
   ]
  },
  {
   "cell_type": "code",
   "execution_count": 10,
   "metadata": {
    "hidden": true
   },
   "outputs": [
    {
     "name": "stdout",
     "output_type": "stream",
     "text": [
      "+-----------+-----------+----+--------------------+-----+\n",
      "|    Station|Measurement|Year|              Values|State|\n",
      "+-----------+-----------+----+--------------------+-----+\n",
      "|USW00094704|   PRCP_s20|1945|[00 00 00 00 00 0...|   NY|\n",
      "|USW00094704|   PRCP_s20|1946|[99 46 52 46 0B 4...|   NY|\n",
      "|USW00094704|   PRCP_s20|1947|[79 4C 75 4C 8F 4...|   NY|\n",
      "|USW00094704|   PRCP_s20|1948|[72 48 7A 48 85 4...|   NY|\n",
      "|USW00094704|   PRCP_s20|1949|[BB 49 BC 49 BD 4...|   NY|\n",
      "+-----------+-----------+----+--------------------+-----+\n",
      "only showing top 5 rows\n",
      "\n"
     ]
    }
   ],
   "source": [
    "# Pick few columns\n",
    "df1 = df.select('Station','Measurement','Year','Values','State')\n",
    "df1.show(5)"
   ]
  },
  {
   "cell_type": "code",
   "execution_count": 11,
   "metadata": {
    "hidden": true
   },
   "outputs": [
    {
     "data": {
      "text/plain": [
       "168398"
      ]
     },
     "execution_count": 11,
     "metadata": {},
     "output_type": "execute_result"
    }
   ],
   "source": [
    "# Number of entries\n",
    "df1.count()"
   ]
  },
  {
   "cell_type": "code",
   "execution_count": 12,
   "metadata": {
    "hidden": true
   },
   "outputs": [
    {
     "name": "stdout",
     "output_type": "stream",
     "text": [
      "+-----------+-----------+\n",
      "|    Station|Measurement|\n",
      "+-----------+-----------+\n",
      "|     168398|     168398|\n",
      "|       null|       null|\n",
      "|       null|       null|\n",
      "|USC00300015|       PRCP|\n",
      "|USW00094794|   TOBS_s20|\n",
      "+-----------+-----------+\n",
      "\n"
     ]
    }
   ],
   "source": [
    "# count, mean, std, min, max\n",
    "df1.describe().select('Station','Measurement').show()"
   ]
  },
  {
   "cell_type": "code",
   "execution_count": 13,
   "metadata": {
    "hidden": true
   },
   "outputs": [
    {
     "name": "stdout",
     "output_type": "stream",
     "text": [
      "root\n",
      " |-- Station: string (nullable = true)\n",
      " |-- Measurement: string (nullable = true)\n",
      " |-- Year: long (nullable = true)\n",
      " |-- Values: binary (nullable = true)\n",
      " |-- State: string (nullable = true)\n",
      "\n"
     ]
    }
   ],
   "source": [
    "# Print schema\n",
    "df1.printSchema()"
   ]
  },
  {
   "cell_type": "code",
   "execution_count": 14,
   "metadata": {
    "hidden": true
   },
   "outputs": [
    {
     "name": "stdout",
     "output_type": "stream",
     "text": [
      "+-----------+--------------+---------+\n",
      "|measurement|count(Station)|min(Year)|\n",
      "+-----------+--------------+---------+\n",
      "|   TMIN_s20|         13442|     1873|\n",
      "|       TMIN|         13442|     1873|\n",
      "|   SNOW_s20|         15629|     1884|\n",
      "|       TOBS|         10956|     1876|\n",
      "|   SNWD_s20|         14617|     1888|\n",
      "|   PRCP_s20|         16118|     1871|\n",
      "|   TOBS_s20|         10956|     1876|\n",
      "|       TMAX|         13437|     1873|\n",
      "|       SNOW|         15629|     1884|\n",
      "|   TMAX_s20|         13437|     1873|\n",
      "|       SNWD|         14617|     1888|\n",
      "|       PRCP|         16118|     1871|\n",
      "+-----------+--------------+---------+\n",
      "\n"
     ]
    }
   ],
   "source": [
    "# Aggregrate (min , count) of df columns\n",
    "df1.groupby('measurement').agg({'Year':'min', 'Station':'count'}).show()"
   ]
  },
  {
   "cell_type": "code",
   "execution_count": 15,
   "metadata": {
    "hidden": true
   },
   "outputs": [
    {
     "name": "stdout",
     "output_type": "stream",
     "text": [
      "+-----------+-----------+----+--------------------+-----+\n",
      "|    Station|Measurement|Year|              Values|State|\n",
      "+-----------+-----------+----+--------------------+-----+\n",
      "|USW00094704|   PRCP_s20|1945|[00 00 00 00 00 0...|   NY|\n",
      "|USW00094704|   PRCP_s20|1946|[99 46 52 46 0B 4...|   NY|\n",
      "|USW00094704|   PRCP_s20|1947|[79 4C 75 4C 8F 4...|   NY|\n",
      "|USW00094704|   PRCP_s20|1948|[72 48 7A 48 85 4...|   NY|\n",
      "|USW00094704|   PRCP_s20|1949|[BB 49 BC 49 BD 4...|   NY|\n",
      "+-----------+-----------+----+--------------------+-----+\n",
      "only showing top 5 rows\n",
      "\n"
     ]
    }
   ],
   "source": [
    "# Display rows\n",
    "df1.show(5)"
   ]
  },
  {
   "cell_type": "markdown",
   "metadata": {
    "heading_collapsed": true,
    "hidden": true
   },
   "source": [
    "#### Imperative manipulation: (Python style)"
   ]
  },
  {
   "cell_type": "code",
   "execution_count": 16,
   "metadata": {
    "collapsed": true,
    "hidden": true
   },
   "outputs": [],
   "source": [
    "# Specify what we want and how we want. Order of operations is specified "
   ]
  },
  {
   "cell_type": "code",
   "execution_count": 17,
   "metadata": {
    "hidden": true
   },
   "outputs": [
    {
     "name": "stdout",
     "output_type": "stream",
     "text": [
      "<class 'list'> 12\n"
     ]
    },
    {
     "data": {
      "text/plain": [
       "[Row(measurement='TMIN_s20', count=13442),\n",
       " Row(measurement='TMIN', count=13442),\n",
       " Row(measurement='SNOW_s20', count=15629),\n",
       " Row(measurement='TOBS', count=10956),\n",
       " Row(measurement='SNWD_s20', count=14617),\n",
       " Row(measurement='PRCP_s20', count=16118),\n",
       " Row(measurement='TOBS_s20', count=10956),\n",
       " Row(measurement='TMAX', count=13437),\n",
       " Row(measurement='SNOW', count=15629),\n",
       " Row(measurement='TMAX_s20', count=13437),\n",
       " Row(measurement='SNWD', count=14617),\n",
       " Row(measurement='PRCP', count=16118)]"
      ]
     },
     "execution_count": 17,
     "metadata": {},
     "output_type": "execute_result"
    }
   ],
   "source": [
    "# Get 5 measurements with highest counts\n",
    "cnt_list = df1.groupby('measurement').count().collect()\n",
    "print(type(cnt_list), len(cnt_list))\n",
    "cnt_list"
   ]
  },
  {
   "cell_type": "code",
   "execution_count": 18,
   "metadata": {
    "hidden": true
   },
   "outputs": [
    {
     "data": {
      "text/plain": [
       "[('PRCP', 16118),\n",
       " ('PRCP_s20', 16118),\n",
       " ('SNOW', 15629),\n",
       " ('SNOW_s20', 15629),\n",
       " ('SNWD', 14617)]"
      ]
     },
     "execution_count": 18,
     "metadata": {},
     "output_type": "execute_result"
    }
   ],
   "source": [
    "# Sort and get highest counts\n",
    "el_tuples = [(el['measurement'], el['count']) for el in cnt_list]\n",
    "el_tuples.sort(key = lambda tup: tup[1])\n",
    "[x for x in reversed(el_tuples[-5:])]"
   ]
  },
  {
   "cell_type": "markdown",
   "metadata": {
    "heading_collapsed": true,
    "hidden": true
   },
   "source": [
    "#### Declarative manipulation: (SQL style)"
   ]
  },
  {
   "cell_type": "code",
   "execution_count": 19,
   "metadata": {
    "collapsed": true,
    "hidden": true
   },
   "outputs": [],
   "source": [
    "# Specify only what we want. Some operations may not be there.\n",
    "# Need to register df as table"
   ]
  },
  {
   "cell_type": "code",
   "execution_count": 20,
   "metadata": {
    "hidden": true
   },
   "outputs": [
    {
     "name": "stdout",
     "output_type": "stream",
     "text": [
      "data/people.json\n",
      "+----+-------+\n",
      "| age|   name|\n",
      "+----+-------+\n",
      "|null|Michael|\n",
      "|  30|   Andy|\n",
      "|  19| Justin|\n",
      "+----+-------+\n",
      "\n",
      "\n",
      "SELECT name\n",
      "FROM df\n",
      "WHERE age > 12 AND age < 20\n",
      "\n",
      "<class 'pyspark.sql.dataframe.DataFrame'>\n",
      "+------+\n",
      "|  name|\n",
      "+------+\n",
      "|Justin|\n",
      "+------+\n",
      "\n"
     ]
    },
    {
     "data": {
      "text/plain": [
       "['Justin']"
      ]
     },
     "execution_count": 20,
     "metadata": {},
     "output_type": "execute_result"
    }
   ],
   "source": [
    "# Read sample datafile\n",
    "!ls data/people.json\n",
    "fpath = 'data/people.json'\n",
    "df = sqc.read.json(fpath)\n",
    "df.show()\n",
    "\n",
    "# Register df as temp table\n",
    "df.registerTempTable('df')\n",
    "\n",
    "# SQL query\n",
    "query = \"\"\"\n",
    "SELECT name\n",
    "FROM df\n",
    "WHERE age > 12 AND age < 20\n",
    "\"\"\"\n",
    "print(query)\n",
    "\n",
    "# Make query\n",
    "el_df = sqc.sql(query)\n",
    "print(type(el_df))\n",
    "el_df.show()\n",
    "# Another way to print (collect on head node)\n",
    "[el[0] for el in el_df.collect()]"
   ]
  },
  {
   "cell_type": "code",
   "execution_count": 21,
   "metadata": {
    "hidden": true
   },
   "outputs": [
    {
     "name": "stdout",
     "output_type": "stream",
     "text": [
      "\n",
      "SELECT measurement, COUNT(measurement) AS measurement_count\n",
      "FROM ny_weather  \n",
      "GROUP BY measurement \n",
      "ORDER BY measurement_count\n",
      "\n",
      "+-----------+-----------------+\n",
      "|measurement|measurement_count|\n",
      "+-----------+-----------------+\n",
      "|   TOBS_s20|            10956|\n",
      "|       TOBS|            10956|\n",
      "|   TMAX_s20|            13437|\n",
      "|       TMAX|            13437|\n",
      "|   TMIN_s20|            13442|\n",
      "|       TMIN|            13442|\n",
      "|   SNWD_s20|            14617|\n",
      "|       SNWD|            14617|\n",
      "|       SNOW|            15629|\n",
      "|   SNOW_s20|            15629|\n",
      "|   PRCP_s20|            16118|\n",
      "|       PRCP|            16118|\n",
      "+-----------+-----------------+\n",
      "\n"
     ]
    }
   ],
   "source": [
    "# Back to weather example\n",
    "# Get 5 measurements with highest counts\n",
    "\n",
    "sqc.registerDataFrameAsTable(df1,'ny_weather')\n",
    "\n",
    "# SQL query\n",
    "query = \"\"\"\n",
    "SELECT measurement, COUNT(measurement) AS measurement_count\n",
    "FROM ny_weather  \n",
    "GROUP BY measurement \n",
    "ORDER BY measurement_count\n",
    "\"\"\"\n",
    "print(query)\n",
    "\n",
    "# Make query\n",
    "el_df = sqc.sql(query)\n",
    "el_df.show()"
   ]
  },
  {
   "cell_type": "markdown",
   "metadata": {
    "heading_collapsed": true,
    "hidden": true
   },
   "source": [
    "#### Map on dataframe"
   ]
  },
  {
   "cell_type": "code",
   "execution_count": 22,
   "metadata": {
    "hidden": true
   },
   "outputs": [
    {
     "data": {
      "text/plain": [
       "['19', '19', '19', '19', '19']"
      ]
     },
     "execution_count": 22,
     "metadata": {},
     "output_type": "execute_result"
    }
   ],
   "source": [
    "# Map on dataframe needs conversion to rdd \n",
    "# - NOT efficient. More efficient with sparkSql functions\n",
    "def findcent(row):\n",
    "    if row.Year < 2000: return '19'\n",
    "    else: return '20'\n",
    "df1.rdd.map(findcent).take(5)"
   ]
  },
  {
   "cell_type": "markdown",
   "metadata": {
    "collapsed": true,
    "heading_collapsed": true,
    "hidden": true
   },
   "source": [
    "#### Aggregation on dataframe"
   ]
  },
  {
   "cell_type": "code",
   "execution_count": 23,
   "metadata": {
    "hidden": true
   },
   "outputs": [
    {
     "name": "stdout",
     "output_type": "stream",
     "text": [
      "\n",
      "SELECT year, COUNT(year) as year_count\n",
      "FROM ny_weather\n",
      "GROUP BY year\n",
      "ORDER BY year\n",
      "\n",
      "+----+----------+\n",
      "|year|year_count|\n",
      "+----+----------+\n",
      "|1871|         2|\n",
      "|1872|         2|\n",
      "|1873|         6|\n",
      "|1874|         6|\n",
      "|1875|         6|\n",
      "|1876|        14|\n",
      "|1877|        14|\n",
      "|1878|        14|\n",
      "|1879|        14|\n",
      "|1880|        14|\n",
      "|1881|        14|\n",
      "|1882|        14|\n",
      "|1883|        14|\n",
      "|1884|        16|\n",
      "|1885|        22|\n",
      "|1886|        24|\n",
      "|1887|        24|\n",
      "|1888|        40|\n",
      "|1889|        24|\n",
      "|1890|        34|\n",
      "+----+----------+\n",
      "only showing top 20 rows\n",
      "\n"
     ]
    }
   ],
   "source": [
    "# Count measurements per year\n",
    "query=\"\"\"\n",
    "SELECT year, COUNT(year) as year_count\n",
    "FROM ny_weather\n",
    "GROUP BY year\n",
    "ORDER BY year\n",
    "\"\"\"\n",
    "print(query)\n",
    "\n",
    "# Make query\n",
    "year_counts_df = sqc.sql(query)\n",
    "year_counts_df.show()"
   ]
  },
  {
   "cell_type": "markdown",
   "metadata": {
    "heading_collapsed": true,
    "hidden": true
   },
   "source": [
    "#### Spark -> Pandas dataframe for plotting"
   ]
  },
  {
   "cell_type": "code",
   "execution_count": 24,
   "metadata": {
    "hidden": true
   },
   "outputs": [
    {
     "data": {
      "text/plain": [
       "<matplotlib.axes._subplots.AxesSubplot at 0x7f427d05b208>"
      ]
     },
     "execution_count": 24,
     "metadata": {},
     "output_type": "execute_result"
    },
    {
     "data": {
      "image/png": "[encoded data removed]",
      "text/plain": [
       "<matplotlib.figure.Figure at 0x7f427d0a5a58>"
      ]
     },
     "metadata": {},
     "output_type": "display_data"
    }
   ],
   "source": [
    "# Convert spark df to pandas df for plotting\n",
    "yc_pd_df = year_counts_df.toPandas()\n",
    "yc_pd_df.plot('year','year_count')"
   ]
  },
  {
   "cell_type": "markdown",
   "metadata": {},
   "source": [
    "### Load data selectively"
   ]
  },
  {
   "cell_type": "code",
   "execution_count": 25,
   "metadata": {},
   "outputs": [
    {
     "name": "stdout",
     "output_type": "stream",
     "text": [
      "<class 'pyspark.sql.dataframe.DataFrame'>\n",
      "+----+-----------+-----------+\n",
      "|year|    station|measurement|\n",
      "+----+-----------+-----------+\n",
      "|1932|USC00308600|       SNOW|\n",
      "|1956|USC00308600|       SNOW|\n",
      "|1957|USC00308600|       SNOW|\n",
      "|1958|USC00308600|       SNOW|\n",
      "|1959|USC00308600|       SNOW|\n",
      "+----+-----------+-----------+\n",
      "only showing top 5 rows\n",
      "\n"
     ]
    },
    {
     "data": {
      "text/plain": [
       "(15629, ['year', 'station', 'measurement'])"
      ]
     },
     "execution_count": 25,
     "metadata": {},
     "output_type": "execute_result"
    }
   ],
   "source": [
    "# Read file using sql query\n",
    "data_file_city = './data/weather/NY'\n",
    "query = \"\"\"\n",
    "SELECT year,station,measurement\n",
    "FROM parquet.`%s.parquet`\n",
    "WHERE measurement=\\\"SNOW\\\"\n",
    "\"\"\"%(data_file_city)\n",
    "df2 = sqc.sql(query)\n",
    "print(type(df2))\n",
    "df2.show(5)\n",
    "df2.count(), df2.columns"
   ]
  },
  {
   "cell_type": "code",
   "execution_count": null,
   "metadata": {
    "collapsed": true
   },
   "outputs": [],
   "source": []
  }
 ],
 "metadata": {
  "kernelspec": {
   "display_name": "Python 3",
   "language": "python",
   "name": "python3"
  },
  "language_info": {
   "codemirror_mode": {
    "name": "ipython",
    "version": 3
   },
   "file_extension": ".py",
   "mimetype": "text/x-python",
   "name": "python",
   "nbconvert_exporter": "python",
   "pygments_lexer": "ipython3",
   "version": "3.6.3"
  }
 },
 "nbformat": 4,
 "nbformat_minor": 2
}
